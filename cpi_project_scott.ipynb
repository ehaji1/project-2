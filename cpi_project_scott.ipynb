{
 "cells": [
  {
   "cell_type": "code",
   "execution_count": null,
   "id": "6059721a-612b-404b-9109-5efbef3192c7",
   "metadata": {},
   "outputs": [],
   "source": [
    "import numpy as np\n",
    "import pandas as pd\n",
    "from pathlib import Path\n",
    "from collections import Counter\n",
    "from sklearn.metrics import balanced_accuracy_score\n",
    "from sklearn.metrics import confusion_matrix\n",
    "from imblearn.metrics import classification_report_imbalanced\n",
    "import matplotlib.pyplot as plt\n",
    "from sklearn.model_selection import train_test_split\n",
    "from sklearn.preprocessing import StandardScaler, OneHotEncoder\n",
    "import tensorflow as tf\n",
    "from tensorflow.keras.models import Sequential\n",
    "from tensorflow.keras.layers import Dense\n",
    "from tensorflow.keras.layers import LSTM\n",
    "from tensorflow.keras.layers import Dense, Dropout\n",
    "import seaborn as sns"
   ]
  },
  {
   "cell_type": "code",
   "execution_count": null,
   "id": "4d6cf207-f2e8-43e2-8169-fcf6ecab18cd",
   "metadata": {},
   "outputs": [],
   "source": [
    "file_beef = Path(\"Beef84_22.csv\")\n",
    "file_eggs = Path(\"Eggs80_22.csv\")\n",
    "file_bread = Path(\"Bread80_22.csv\")\n",
    "file_chicken = Path(\"Chicken80_22.csv\")\n",
    "file_diesel = Path(\"Diesel98_22s.csv\")\n",
    "file_electric = Path(\"Electricity79_22.csv\")\n",
    "file_energy = Path(\"Energy00_22.csv\")\n",
    "file_flour = Path(\"Flour80_22.csv\")\n",
    "file_fuel = Path(\"Fuel79_22.csv\")\n",
    "file_gas = Path(\"Gasoline80_22.csv\")\n",
    "file_malt = Path(\"Malt96_22.csv\")\n",
    "file_medical = Path(\"Medical00_22.csv\")\n",
    "file_milk = Path(\"Milk95_22.csv\")\n",
    "file_pres = Path(\"Prescription80_22.csv\")\n",
    "file_shelter = Path(\"Shelter80_22.csv\")\n",
    "file_sugar = Path(\"Sugar80_22.csv\")\n",
    "file_utility = Path(\"Utility00_22.csv\")\n",
    "\n",
    "file_cpi = Path(\"CPI_Average.csv\")"
   ]
  },
  {
   "cell_type": "code",
   "execution_count": null,
   "id": "b42258fd-4398-4702-9795-52ff80c3d58c",
   "metadata": {},
   "outputs": [],
   "source": [
    "\n",
    "beef_file = pd.read_csv(file_beef)\n",
    "eggs_file = pd.read_csv(file_eggs)\n",
    "bread_file = pd.read_csv(file_bread)\n",
    "chicken_file = pd.read_csv(file_chicken)\n",
    "diesel_file = pd.read_csv(file_diesel)\n",
    "electricity_file = pd.read_csv(file_electric)\n",
    "energy_file = pd.read_csv(file_energy)\n",
    "flour_file = pd.read_csv(file_flour)\n",
    "fuel_file = pd.read_csv(file_fuel)\n",
    "gasoline_file = pd.read_csv(file_gas)\n",
    "malt_file = pd.read_csv(file_malt)\n",
    "medical_file = pd.read_csv(file_medical)\n",
    "milk_file = pd.read_csv(file_milk)\n",
    "presecription_file = pd.read_csv(file_pres)\n",
    "shelter_file = pd.read_csv(file_shelter)\n",
    "sugar_file = pd.read_csv(file_sugar)\n",
    "utility_file = pd.read_csv(file_utility)\n",
    "\n",
    "CPI_file = pd.read_csv(file_cpi)"
   ]
  },
  {
   "cell_type": "code",
   "execution_count": null,
   "id": "08b7903c",
   "metadata": {},
   "outputs": [],
   "source": [
    "df_new = pd.concat([beef_file , chicken_file, eggs_file, bread_file], axis=\"columns\", join = \"inner\")"
   ]
  },
  {
   "cell_type": "code",
   "execution_count": null,
   "id": "15711cc1",
   "metadata": {},
   "outputs": [],
   "source": [
    "df_new"
   ]
  },
  {
   "cell_type": "code",
   "execution_count": null,
   "id": "f3f3d43f-0e88-4d77-a50e-88bbe69a5edf",
   "metadata": {},
   "outputs": [],
   "source": [
    "beef_file.head()\n",
    "eggs_file.head()"
   ]
  },
  {
   "cell_type": "code",
   "execution_count": null,
   "id": "c4cc3005-a4fc-4fcb-aaaa-f6fe15f62b4e",
   "metadata": {},
   "outputs": [],
   "source": [
    "df_beef = pd.DataFrame(beef_file)\n",
    "df_beef.set_index(pd.to_datetime(df_beef['Year'], infer_datetime_format=True), inplace=True)\n",
    "df_beef = df_beef.drop(columns=['Year'], axis=1)\n",
    "df_beef = df_beef.pct_change()\n",
    "\n",
    "df_eggs = pd.DataFrame(eggs_file)\n",
    "df_eggs.set_index(pd.to_datetime(df_eggs['Year'], infer_datetime_format=True), inplace=True)\n",
    "df_eggs = df_eggs.drop(columns=['Year'], axis=1)\n",
    "df_eggs = df_eggs.pct_change()\n",
    "\n",
    "df_bread = pd.DataFrame(bread_file)\n",
    "df_bread.set_index(pd.to_datetime(df_bread['Year'], infer_datetime_format=True), inplace=True) \n",
    "df_bread = df_bread.drop(columns=['Year'], axis=1)\n",
    "df_bread = df_bread.pct_change()\n",
    "\n",
    "df_chicken = pd.DataFrame(chicken_file)\n",
    "df_chicken.set_index(pd.to_datetime(df_chicken['Year'], infer_datetime_format=True), inplace=True)\n",
    "df_chicken = df_chicken.drop(columns=['Year'], axis=1)\n",
    "df_chicken  = df_chicken .pct_change()\n",
    "\n",
    "df_diesel = pd.DataFrame(diesel_file)\n",
    "df_diesel.set_index(pd.to_datetime(df_diesel ['Year'], infer_datetime_format=True), inplace=True)\n",
    "df_diesel  = df_diesel .drop(columns=['Year'], axis=1)\n",
    "df_diesel = df_diesel.pct_change()\n",
    "\n",
    "df_electric = pd.DataFrame(electricity_file)\n",
    "df_electric.set_index(pd.to_datetime(df_electric['Year'], infer_datetime_format=True), inplace=True)\n",
    "df_electric = df_electric.drop(columns=['Year'], axis=1)\n",
    "df_electric = df_electric.pct_change()\n",
    "\n",
    "df_energy = pd.DataFrame(energy_file)\n",
    "df_energy.set_index(pd.to_datetime(df_energy['Year'], infer_datetime_format=True), inplace=True)\n",
    "df_energy = df_energy.drop(columns=['Year'], axis=1)\n",
    "df_energy = df_energy.pct_change()\n",
    "\n",
    "\n",
    "df_flour = pd.DataFrame(flour_file)\n",
    "df_flour.set_index(pd.to_datetime(df_flour['Year'], infer_datetime_format=True), inplace=True)\n",
    "df_flour = df_flour.drop(columns=['Year'], axis=1)\n",
    "df_flour = df_flour.pct_change()\n",
    "\n",
    "\n",
    "df_fuel = pd.DataFrame(fuel_file)\n",
    "df_fuel.set_index(pd.to_datetime(df_fuel['Year'], infer_datetime_format=True), inplace=True)\n",
    "df_fuel = df_fuel.drop(columns=['Year'], axis=1)\n",
    "df_fuel = df_fuel.pct_change()\n",
    "\n",
    "df_gas = pd.DataFrame(gasoline_file)\n",
    "df_gas.set_index(pd.to_datetime(df_gas['Year'], infer_datetime_format=True), inplace=True)\n",
    "df_gas = df_gas.drop(columns=['Year'], axis=1)\n",
    "df_gas = df_gas.pct_change()\n",
    "\n",
    "\n",
    "df_malt = pd.DataFrame(malt_file)\n",
    "df_malt.set_index(pd.to_datetime(df_malt['Year'], infer_datetime_format=True), inplace=True)\n",
    "df_malt = df_malt.drop(columns=['Year'], axis=1)\n",
    "df_malt = df_malt.pct_change()\n",
    "\n",
    "\n",
    "df_medical = pd.DataFrame(medical_file)\n",
    "df_medical.set_index(pd.to_datetime(df_medical['Year'], infer_datetime_format=True), inplace=True)\n",
    "df_medical = df_medical.drop(columns=['Year'], axis=1)\n",
    "df_medical = df_medical.pct_change()\n",
    "\n",
    "\n",
    "df_milk = pd.DataFrame(milk_file)\n",
    "df_milk.set_index(pd.to_datetime(df_milk['Year'], infer_datetime_format=True), inplace=True)\n",
    "df_milk = df_milk.drop(columns=['Year'], axis=1)\n",
    "df_milk = df_milk.pct_change()\n",
    "\n",
    "\n",
    "\n",
    "df_pres = pd.DataFrame(presecription_file)\n",
    "df_pres.set_index(pd.to_datetime(df_pres['Year'], infer_datetime_format=True), inplace=True)\n",
    "df_pres = df_pres.drop(columns=['Year'], axis=1)\n",
    "df_pres = df_pres.pct_change()\n",
    "\n",
    "\n",
    "df_shelter = pd.DataFrame(shelter_file)\n",
    "df_shelter.set_index(pd.to_datetime(df_shelter ['Year'], infer_datetime_format=True), inplace=True)\n",
    "df_shelter  = df_shelter.drop(columns=['Year'], axis=1)\n",
    "df_shelter = df_shelter.pct_change()\n",
    "\n",
    "df_sugar = pd.DataFrame(sugar_file)\n",
    "df_sugar.set_index(pd.to_datetime(df_sugar['Year'], infer_datetime_format=True), inplace=True)\n",
    "df_sugar = df_sugar.drop(columns=['Year'], axis=1)\n",
    "df_sugar = df_sugar.pct_change()\n",
    "\n",
    "df_utility = pd.DataFrame(utility_file)\n",
    "df_utility.set_index(pd.to_datetime(df_utility['Year'], infer_datetime_format=True), inplace=True) \n",
    "df_utility = df_utility.drop(columns=['Year'], axis=1)\n",
    "df_utility  = df_utility .pct_change()\n",
    "\n",
    "df_cpi = pd.DataFrame(CPI_file)\n",
    "df_cpi.set_index(pd.to_datetime(df_cpi['Year'], infer_datetime_format=True), inplace=True) \n",
    "df_cpi = df_cpi.drop(columns=['Year'], axis=1)\n",
    "df_cpi  = df_cpi.pct_change()\n"
   ]
  },
  {
   "cell_type": "code",
   "execution_count": null,
   "id": "f6f1bdbd",
   "metadata": {},
   "outputs": [],
   "source": []
  },
  {
   "cell_type": "code",
   "execution_count": null,
   "id": "b836a9e4-3386-489d-8631-54d587eea736",
   "metadata": {},
   "outputs": [],
   "source": [
    "df_beef.head()"
   ]
  },
  {
   "cell_type": "code",
   "execution_count": null,
   "id": "9045fb12-a7f8-4425-af14-1910a5862988",
   "metadata": {},
   "outputs": [],
   "source": [
    "df_inflation = pd.concat([df_beef , df_chicken,df_eggs, df_bread,df_diesel,df_electric,df_energy,df_flour,df_fuel, df_gas,df_malt, df_medical, df_milk,df_utility,df_sugar, df_shelter, df_cpi], axis=\"columns\", join = \"inner\")"
   ]
  },
  {
   "cell_type": "code",
   "execution_count": null,
   "id": "e04a857f-5357-402b-87d6-3e2566b7c3ed",
   "metadata": {},
   "outputs": [],
   "source": [
    "df_inflation.tail()"
   ]
  },
  {
   "cell_type": "code",
   "execution_count": null,
   "id": "c98053a4-6920-4ee0-942f-5fdb0472df7f",
   "metadata": {},
   "outputs": [],
   "source": [
    "df_inflation.tail(20)"
   ]
  },
  {
   "cell_type": "code",
   "execution_count": null,
   "id": "f67344ca",
   "metadata": {},
   "outputs": [],
   "source": [
    "df_inflation.reset_index(inplace=True)"
   ]
  },
  {
   "cell_type": "code",
   "execution_count": null,
   "id": "37c55fed",
   "metadata": {},
   "outputs": [],
   "source": [
    "df_inflation.dtypes"
   ]
  },
  {
   "cell_type": "code",
   "execution_count": null,
   "id": "a82e7ff7-3374-4baa-8b4f-5d960395472f",
   "metadata": {},
   "outputs": [],
   "source": [
    "df_inflation = df_inflation.fillna(method='pad')"
   ]
  },
  {
   "cell_type": "code",
   "execution_count": null,
   "id": "e5d13a98-86e1-403c-bf84-cc480b0c4508",
   "metadata": {},
   "outputs": [],
   "source": [
    "df_inflation.plot(kind ='line',\n",
    "            subplots = True,\n",
    "            grid = True,\n",
    "            figsize = (12,12),\n",
    "            title = ['Beef', 'Chicken', 'Eggs', 'Bread', 'Diesel', 'Electric', 'Energy', 'Flour','Fuel','Gasoline','Malt','Medical','Milk','Utility','Sugar','Sheler','CPI'],\n",
    "            layout = (9,2),\n",
    "            sharex = True,\n",
    "            sharey = False,\n",
    "            legend = False,\n",
    "            style = ['darkred', 'steelblue', 'dodgerblue', 'slateblue', 'darkslateblue', 'mediumblue', 'midnightblue'])\n",
    "\n",
    "[ax.set_xlabel('') for ax in plt.gcf().axes]\n",
    "plt.suptitle('Data for the United States', fontsize = 20)\n",
    "plt.show()\n",
    "\n"
   ]
  },
  {
   "cell_type": "code",
   "execution_count": null,
   "id": "3dcc8c8b",
   "metadata": {},
   "outputs": [],
   "source": [
    "#Separate dates for future plotting\n",
    "train_dates = pd.to_datetime(df_inflation['Year'])\n",
    "train_dates.tail() #Check last few dates. "
   ]
  },
  {
   "cell_type": "code",
   "execution_count": null,
   "id": "c5d020ae",
   "metadata": {},
   "outputs": [],
   "source": []
  },
  {
   "cell_type": "code",
   "execution_count": null,
   "id": "d3ab8d24",
   "metadata": {},
   "outputs": [],
   "source": []
  },
  {
   "cell_type": "code",
   "execution_count": null,
   "id": "f979e59b",
   "metadata": {},
   "outputs": [],
   "source": []
  },
  {
   "cell_type": "code",
   "execution_count": null,
   "id": "6e769a62",
   "metadata": {},
   "outputs": [],
   "source": []
  },
  {
   "cell_type": "code",
   "execution_count": null,
   "id": "9dceb663",
   "metadata": {},
   "outputs": [],
   "source": []
  },
  {
   "cell_type": "code",
   "execution_count": null,
   "id": "71c4bac7",
   "metadata": {},
   "outputs": [],
   "source": []
  },
  {
   "cell_type": "code",
   "execution_count": null,
   "id": "66c4a76c-ef2d-48fc-a900-9c45d591752e",
   "metadata": {},
   "outputs": [],
   "source": [
    "df_for_training = df_inflation[0:14].astype(float)"
   ]
  },
  {
   "cell_type": "code",
   "execution_count": null,
   "id": "49e3e357-d98d-4d98-8f0e-97a7ab5015fc",
   "metadata": {},
   "outputs": [],
   "source": []
  },
  {
   "cell_type": "code",
   "execution_count": null,
   "id": "c0cbd4b0-be23-41ac-be73-f992aad262fc",
   "metadata": {},
   "outputs": [],
   "source": [
    "df_for_training"
   ]
  },
  {
   "cell_type": "code",
   "execution_count": null,
   "id": "f83c4bca-c399-4e9b-8bcb-1505cc5dd7f8",
   "metadata": {},
   "outputs": [],
   "source": [
    "scaler = StandardScaler()\n",
    "scaler = scaler.fit(df_for_training)\n",
    "df_for_training_scaled = scaler.transform(df_for_training)"
   ]
  },
  {
   "cell_type": "code",
   "execution_count": null,
   "id": "94a79c44-fa13-4f93-a959-5065386614f9",
   "metadata": {},
   "outputs": [],
   "source": [
    "trainX = []\n",
    "trainY = []"
   ]
  },
  {
   "cell_type": "code",
   "execution_count": null,
   "id": "3654b11d-fbf5-474a-ba00-39a76efe9a33",
   "metadata": {},
   "outputs": [],
   "source": [
    "n_future = 1\n",
    "n_past =  14"
   ]
  },
  {
   "cell_type": "code",
   "execution_count": null,
   "id": "ad3687cf-4fb0-462e-9cc6-8aa8ef9bd2ba",
   "metadata": {},
   "outputs": [],
   "source": [
    "for i in range(n_past, len(df_for_training_scaled) - n_future +1):\n",
    "    trainX.append(df_for_training_scaled[i - n_past:i, 0:df_for_training.shape[1]])\n",
    "    trainY.append(df_for_training_scaled[i + n_future - 1:i + n_future, 0])"
   ]
  },
  {
   "cell_type": "code",
   "execution_count": null,
   "id": "d3b90ce1-86e2-487f-9322-a16ea5a5f2e8",
   "metadata": {},
   "outputs": [],
   "source": [
    "trainX, trainY = np.array(trainX), np.array(trainY)"
   ]
  },
  {
   "cell_type": "code",
   "execution_count": null,
   "id": "9c2f15f7-4628-4e63-bf62-ca9ad902320f",
   "metadata": {},
   "outputs": [],
   "source": [
    "print('trainX shape == {}.'.format(trainX.shape))\n",
    "print('trainY shape == {}.'.format(trainY.shape))"
   ]
  },
  {
   "cell_type": "code",
   "execution_count": null,
   "id": "20e24181-cf95-4a05-94a4-c205f56f6a3b",
   "metadata": {},
   "outputs": [],
   "source": [
    "model = Sequential()\n",
    "model.add(LSTM(64, activation='relu', input_shape=(trainX.shape[1], trainX.shape[2]), return_sequences=True))\n",
    "model.add(LSTM(32, activation='relu', return_sequences=False))\n",
    "model.add(Dropout(0.2))\n",
    "model.add(Dense(trainY.shape[1]))"
   ]
  },
  {
   "cell_type": "code",
   "execution_count": null,
   "id": "0d60e84f-58be-47e2-9838-355fca62a9d7",
   "metadata": {},
   "outputs": [],
   "source": [
    "model.compile(optimizer='adam', loss='mse')\n",
    "model.summary()"
   ]
  },
  {
   "cell_type": "code",
   "execution_count": null,
   "id": "85b1f7a3-5d7a-4365-9a3b-433d20b723f5",
   "metadata": {},
   "outputs": [],
   "source": [
    "history = model.fit(trainX, trainY, epochs=5, batch_size=16, validation_split=0.7, verbose=1)"
   ]
  },
  {
   "cell_type": "code",
   "execution_count": null,
   "id": "53e2d97a-85c2-456d-8c64-d8e828ff9911",
   "metadata": {},
   "outputs": [],
   "source": []
  },
  {
   "cell_type": "code",
   "execution_count": null,
   "id": "21a3ecf6-f688-467d-b011-465bfbb05009",
   "metadata": {},
   "outputs": [],
   "source": [
    "plt.plot(history.history['loss'], label='Training loss')\n",
    "plt.plot(history.history['val_loss'], label='Validation loss')\n",
    "plt.legend()"
   ]
  },
  {
   "cell_type": "code",
   "execution_count": null,
   "id": "c00864ef-8c93-436d-aa04-8adae3735425",
   "metadata": {},
   "outputs": [],
   "source": []
  },
  {
   "cell_type": "code",
   "execution_count": null,
   "id": "0d0089af-23b6-480c-82b6-2f4eb136f9ca",
   "metadata": {},
   "outputs": [],
   "source": []
  },
  {
   "cell_type": "code",
   "execution_count": null,
   "id": "bf39a124-7140-45fd-b1c4-675e13c4bb25",
   "metadata": {},
   "outputs": [],
   "source": []
  },
  {
   "cell_type": "code",
   "execution_count": null,
   "id": "16b55fe0-4125-4ec8-9c7f-5f4527bb4005",
   "metadata": {},
   "outputs": [],
   "source": []
  },
  {
   "cell_type": "code",
   "execution_count": null,
   "id": "9711a80b-b69c-443e-a777-c199b1a41d5d",
   "metadata": {},
   "outputs": [],
   "source": []
  },
  {
   "cell_type": "code",
   "execution_count": null,
   "id": "92e1d15c-2fca-471e-8776-f6107e01cc08",
   "metadata": {},
   "outputs": [],
   "source": []
  },
  {
   "cell_type": "code",
   "execution_count": null,
   "id": "b1abcc7d-cfbd-4a44-9815-36a4d2b9f621",
   "metadata": {},
   "outputs": [],
   "source": []
  },
  {
   "cell_type": "code",
   "execution_count": null,
   "id": "555ba05f-517e-4585-8b95-92751dc50d53",
   "metadata": {},
   "outputs": [],
   "source": []
  },
  {
   "cell_type": "code",
   "execution_count": null,
   "id": "3e7d610f-44de-49f6-a4df-b3151680240a",
   "metadata": {},
   "outputs": [],
   "source": []
  },
  {
   "cell_type": "code",
   "execution_count": null,
   "id": "24469fe3-61c1-4720-b292-4a31d06468ba",
   "metadata": {},
   "outputs": [],
   "source": []
  },
  {
   "cell_type": "code",
   "execution_count": null,
   "id": "722eda22-e71b-40e2-bc57-63e98ed21b39",
   "metadata": {},
   "outputs": [],
   "source": []
  },
  {
   "cell_type": "code",
   "execution_count": null,
   "id": "3d797b09-ba3a-455a-96db-6213ae1d6ff0",
   "metadata": {},
   "outputs": [],
   "source": []
  },
  {
   "cell_type": "code",
   "execution_count": null,
   "id": "d0eab548-1d8d-43bb-b4d1-771162bc80ca",
   "metadata": {},
   "outputs": [],
   "source": []
  }
 ],
 "metadata": {
  "kernelspec": {
   "display_name": "Python 3.7.11",
   "language": "python",
   "name": "python3"
  },
  "language_info": {
   "codemirror_mode": {
    "name": "ipython",
    "version": 3
   },
   "file_extension": ".py",
   "mimetype": "text/x-python",
   "name": "python",
   "nbconvert_exporter": "python",
   "pygments_lexer": "ipython3",
   "version": "3.7.11"
  },
  "vscode": {
   "interpreter": {
    "hash": "f24fb736bc58afe020740221a10e8176565a9d617573dc102cc641ee173f1291"
   }
  }
 },
 "nbformat": 4,
 "nbformat_minor": 5
}
