{
 "cells": [
  {
   "cell_type": "code",
   "execution_count": 15,
   "id": "345134f5-0e3c-43bc-a2be-258b388a82c2",
   "metadata": {},
   "outputs": [],
   "source": [
    "import requests\n",
    "import json\n",
    "import csv\n",
    "\n",
    "class c_bls_data:\n",
    "\n",
    "    def __init__(self, reg_key, out_file_nm, series_id, start_year, end_year):\n",
    "\n",
    "        # Set the file name variable and create the parameters for the API request.\n",
    "        self.out_file_nm = out_file_nm\n",
    "        \n",
    "        headers = {'Content-type': 'application/json'}\n",
    "        parameters = json.dumps({'seriesid' : series_id, 'startyear' : start_year, 'endyear' : end_year, 'calculations' : True , 'registrationkey' : reg_key})\n",
    "\n",
    "        # Get data in JSON format and then write it to a CSV file.\n",
    "\n",
    "        json_data = self.get_data(headers, parameters)\n",
    "\n",
    "        self.write_data_to_csv(json_data)\n",
    "\n",
    "    def get_data(self, headers, parameters):\n",
    "\n",
    "        # Post the data request to the BLS API. Return the resulting JSON structure.\n",
    "\n",
    "        post = requests.post('https://api.bls.gov/publicAPI/v2/timeseries/data/', data = parameters, headers = headers)\n",
    "        json_data = json.loads(post.text)\n",
    "\n",
    "        return json_data\n",
    "\n",
    "    def write_data_to_csv(self, json_data):\n",
    "\n",
    "        # Convert the data from JSON format to CSV records. Write\n",
    "        # each record to the specified output file.\n",
    "\n",
    "        # Open the output file. Then, set up the field names for the CSV records and set up the CSV writer.\n",
    "        with open(self.out_file_nm, mode = 'w', newline = '') as data_file:\n",
    "\n",
    "            fieldnames = ['Series ID', 'Month', 'Value', 'Annual Percent Change', 'Monthly Percent Change']\n",
    "\n",
    "            data_writer = csv.writer(data_file, delimiter = ',', quotechar = '\"', quoting = csv.QUOTE_ALL)\n",
    "\n",
    "            # Write CSV file header.\n",
    "            data_writer.writerow(fieldnames)\n",
    "\n",
    "            # Write each record to the output file.\n",
    "            for series in json_data['Results']['series']:\n",
    "                series_id = series['seriesID']\n",
    "                for item in series['data']:\n",
    "\n",
    "                    # Get the basic data\n",
    "                    year = item['year']\n",
    "                    period_name = item['periodName']\n",
    "                    value = item['value']\n",
    "\n",
    "                    # Get the 12-month change\n",
    "                    calculations = item['calculations']\n",
    "                    pct_changes = calculations['pct_changes']\n",
    "                    annual_pct_chg = pct_changes['12']\n",
    "                    \n",
    "\n",
    "                    # Create a month field in the format of a date for \n",
    "                    # the first day of each month (for example: January 1, 2022).\n",
    "\n",
    "                    month = period_name + ' 1, ' + year\n",
    "\n",
    "                    #Write the CSV record to the output file.\n",
    "                    data_writer.writerow([series_id, month, value, annual_pct_chg])"
   ]
  },
  {
   "cell_type": "code",
   "execution_count": 29,
   "id": "c8d745a4-c41c-47d3-b5c0-50e5c95d0e61",
   "metadata": {},
   "outputs": [
    {
     "data": {
      "text/plain": [
       "<__main__.c_bls_data at 0x19addfd47c8>"
      ]
     },
     "execution_count": 29,
     "metadata": {},
     "output_type": "execute_result"
    }
   ],
   "source": [
    "c_bls_data('19bcb2360bec44039226911ecbc6f326', 'Medical03_22.csv', ['CUUR0000SAH1' ], 2003, 2022)"
   ]
  },
  {
   "cell_type": "code",
   "execution_count": 5,
   "id": "1126251d-ce9d-4c14-860b-ec80eaab74f4",
   "metadata": {},
   "outputs": [],
   "source": [
    "file_path = (\"inflation.csv\")"
   ]
  },
  {
   "cell_type": "code",
   "execution_count": 9,
   "id": "9de9fc5e-52c2-4be5-a74d-2d62a3847c52",
   "metadata": {},
   "outputs": [],
   "source": [
    "import pandas as pd\n",
    "import numpy as np \n",
    "import hvplot.pandas \n",
    "\n",
    "from pathlib import Path \n",
    "import panel as pn\n",
    "from panel.interact import interact\n",
    "from panel import widgets \n",
    "\n",
    "%matplotlib inline\n",
    "import matplotlib.pyplot as plt\n",
    "import datetime \n",
    "\n",
    "import os\n",
    "import requests\n",
    "from dotenv import load_dotenv\n",
    "import alpaca_trade_api as tradeapi\n",
    "from alpaca_trade_api.rest import REST, TimeFrame\n",
    "\n",
    "inflat_cs = pd.read_csv(file_path, infer_datetime_format=True,parse_dates=True)"
   ]
  },
  {
   "cell_type": "code",
   "execution_count": 10,
   "id": "a7f1522c-d3a5-4baa-94ab-71642aabd372",
   "metadata": {},
   "outputs": [
    {
     "data": {
      "text/html": [
       "<div>\n",
       "<style scoped>\n",
       "    .dataframe tbody tr th:only-of-type {\n",
       "        vertical-align: middle;\n",
       "    }\n",
       "\n",
       "    .dataframe tbody tr th {\n",
       "        vertical-align: top;\n",
       "    }\n",
       "\n",
       "    .dataframe thead th {\n",
       "        text-align: right;\n",
       "    }\n",
       "</style>\n",
       "<table border=\"1\" class=\"dataframe\">\n",
       "  <thead>\n",
       "    <tr style=\"text-align: right;\">\n",
       "      <th></th>\n",
       "      <th>Series ID</th>\n",
       "      <th>Month</th>\n",
       "      <th>Value</th>\n",
       "      <th>Annual Percent Change</th>\n",
       "    </tr>\n",
       "  </thead>\n",
       "  <tbody>\n",
       "    <tr>\n",
       "      <th>0</th>\n",
       "      <td>CUSR0000SA0</td>\n",
       "      <td>May 1, 2022</td>\n",
       "      <td>291.474</td>\n",
       "      <td>8.5</td>\n",
       "    </tr>\n",
       "    <tr>\n",
       "      <th>1</th>\n",
       "      <td>CUSR0000SA0</td>\n",
       "      <td>April 1, 2022</td>\n",
       "      <td>288.663</td>\n",
       "      <td>8.2</td>\n",
       "    </tr>\n",
       "    <tr>\n",
       "      <th>2</th>\n",
       "      <td>CUSR0000SA0</td>\n",
       "      <td>March 1, 2022</td>\n",
       "      <td>287.708</td>\n",
       "      <td>8.6</td>\n",
       "    </tr>\n",
       "    <tr>\n",
       "      <th>3</th>\n",
       "      <td>CUSR0000SA0</td>\n",
       "      <td>February 1, 2022</td>\n",
       "      <td>284.182</td>\n",
       "      <td>7.9</td>\n",
       "    </tr>\n",
       "    <tr>\n",
       "      <th>4</th>\n",
       "      <td>CUSR0000SA0</td>\n",
       "      <td>January 1, 2022</td>\n",
       "      <td>281.933</td>\n",
       "      <td>7.5</td>\n",
       "    </tr>\n",
       "  </tbody>\n",
       "</table>\n",
       "</div>"
      ],
      "text/plain": [
       "     Series ID             Month    Value  Annual Percent Change\n",
       "0  CUSR0000SA0       May 1, 2022  291.474                    8.5\n",
       "1  CUSR0000SA0     April 1, 2022  288.663                    8.2\n",
       "2  CUSR0000SA0     March 1, 2022  287.708                    8.6\n",
       "3  CUSR0000SA0  February 1, 2022  284.182                    7.9\n",
       "4  CUSR0000SA0   January 1, 2022  281.933                    7.5"
      ]
     },
     "execution_count": 10,
     "metadata": {},
     "output_type": "execute_result"
    }
   ],
   "source": [
    "inflat_cs.head()"
   ]
  },
  {
   "cell_type": "code",
   "execution_count": null,
   "id": "326cf9f2-f204-4ae5-8179-a99be50628cb",
   "metadata": {},
   "outputs": [],
   "source": []
  },
  {
   "cell_type": "code",
   "execution_count": 13,
   "id": "5c7b3e2a-81d6-432b-90d2-deb33e030a3b",
   "metadata": {},
   "outputs": [],
   "source": [
    "inflat_df = pd.DataFrame(inflat_cs)"
   ]
  },
  {
   "cell_type": "code",
   "execution_count": 22,
   "id": "5bac250f-1ada-48be-9157-6533e4ded621",
   "metadata": {},
   "outputs": [],
   "source": [
    "#inflat_df = inflat_df.set_index['Series ID']"
   ]
  },
  {
   "cell_type": "code",
   "execution_count": 25,
   "id": "b6aba07d-2b18-4504-b797-2c80cc7cd334",
   "metadata": {},
   "outputs": [],
   "source": [
    "data_info = inflat_df.dtypes"
   ]
  },
  {
   "cell_type": "code",
   "execution_count": 26,
   "id": "e36625ea-6bd5-4400-a3fc-29715fdf789a",
   "metadata": {},
   "outputs": [
    {
     "name": "stdout",
     "output_type": "stream",
     "text": [
      "Series ID                 object\n",
      "Month                     object\n",
      "Value                    float64\n",
      "Annual Percent Change    float64\n",
      "dtype: object\n"
     ]
    }
   ],
   "source": [
    "print(data_info)"
   ]
  },
  {
   "cell_type": "code",
   "execution_count": 32,
   "id": "61f9e4c7-6c36-4584-8d08-3f802587672a",
   "metadata": {},
   "outputs": [],
   "source": [
    "inflat_df = inflat_df.set_index('Series ID', drop=True, append=False, inplace=False, verify_integrity=False)"
   ]
  },
  {
   "cell_type": "code",
   "execution_count": 33,
   "id": "80565e7e-d434-4177-b015-013ad334580a",
   "metadata": {},
   "outputs": [],
   "source": [
    "inflat_Transp = inflat_df.transpose()"
   ]
  },
  {
   "cell_type": "code",
   "execution_count": 34,
   "id": "242b0aa7-c37f-4a45-9189-4ad82a4bbfc0",
   "metadata": {},
   "outputs": [
    {
     "data": {
      "text/html": [
       "<div>\n",
       "<style scoped>\n",
       "    .dataframe tbody tr th:only-of-type {\n",
       "        vertical-align: middle;\n",
       "    }\n",
       "\n",
       "    .dataframe tbody tr th {\n",
       "        vertical-align: top;\n",
       "    }\n",
       "\n",
       "    .dataframe thead th {\n",
       "        text-align: right;\n",
       "    }\n",
       "</style>\n",
       "<table border=\"1\" class=\"dataframe\">\n",
       "  <thead>\n",
       "    <tr style=\"text-align: right;\">\n",
       "      <th>Series ID</th>\n",
       "      <th>CUSR0000SA0</th>\n",
       "      <th>CUSR0000SA0</th>\n",
       "      <th>CUSR0000SA0</th>\n",
       "      <th>CUSR0000SA0</th>\n",
       "      <th>CUSR0000SA0</th>\n",
       "      <th>CUSR0000SA0</th>\n",
       "      <th>CUSR0000SA0</th>\n",
       "      <th>CUSR0000SA0</th>\n",
       "      <th>CUSR0000SA0</th>\n",
       "      <th>CUSR0000SA0</th>\n",
       "      <th>...</th>\n",
       "      <th>CUSR0000SETA02</th>\n",
       "      <th>CUSR0000SETA02</th>\n",
       "      <th>CUSR0000SETA02</th>\n",
       "      <th>CUSR0000SETA02</th>\n",
       "      <th>CUSR0000SETA02</th>\n",
       "      <th>CUSR0000SETA02</th>\n",
       "      <th>CUSR0000SETA02</th>\n",
       "      <th>CUSR0000SETA02</th>\n",
       "      <th>CUSR0000SETA02</th>\n",
       "      <th>CUSR0000SETA02</th>\n",
       "    </tr>\n",
       "  </thead>\n",
       "  <tbody>\n",
       "    <tr>\n",
       "      <th>Month</th>\n",
       "      <td>May 1, 2022</td>\n",
       "      <td>April 1, 2022</td>\n",
       "      <td>March 1, 2022</td>\n",
       "      <td>February 1, 2022</td>\n",
       "      <td>January 1, 2022</td>\n",
       "      <td>December 1, 2021</td>\n",
       "      <td>November 1, 2021</td>\n",
       "      <td>October 1, 2021</td>\n",
       "      <td>September 1, 2021</td>\n",
       "      <td>August 1, 2021</td>\n",
       "      <td>...</td>\n",
       "      <td>October 1, 2003</td>\n",
       "      <td>September 1, 2003</td>\n",
       "      <td>August 1, 2003</td>\n",
       "      <td>July 1, 2003</td>\n",
       "      <td>June 1, 2003</td>\n",
       "      <td>May 1, 2003</td>\n",
       "      <td>April 1, 2003</td>\n",
       "      <td>March 1, 2003</td>\n",
       "      <td>February 1, 2003</td>\n",
       "      <td>January 1, 2003</td>\n",
       "    </tr>\n",
       "    <tr>\n",
       "      <th>Value</th>\n",
       "      <td>291.474</td>\n",
       "      <td>288.663</td>\n",
       "      <td>287.708</td>\n",
       "      <td>284.182</td>\n",
       "      <td>281.933</td>\n",
       "      <td>280.126</td>\n",
       "      <td>278.524</td>\n",
       "      <td>276.59</td>\n",
       "      <td>274.214</td>\n",
       "      <td>273.092</td>\n",
       "      <td>...</td>\n",
       "      <td>135.1</td>\n",
       "      <td>139.0</td>\n",
       "      <td>143.3</td>\n",
       "      <td>145.7</td>\n",
       "      <td>147.4</td>\n",
       "      <td>147.9</td>\n",
       "      <td>148.4</td>\n",
       "      <td>148.5</td>\n",
       "      <td>148.4</td>\n",
       "      <td>148.3</td>\n",
       "    </tr>\n",
       "    <tr>\n",
       "      <th>Annual Percent Change</th>\n",
       "      <td>8.5</td>\n",
       "      <td>8.2</td>\n",
       "      <td>8.6</td>\n",
       "      <td>7.9</td>\n",
       "      <td>7.5</td>\n",
       "      <td>7.1</td>\n",
       "      <td>6.8</td>\n",
       "      <td>6.2</td>\n",
       "      <td>5.4</td>\n",
       "      <td>5.2</td>\n",
       "      <td>...</td>\n",
       "      <td>-10.4</td>\n",
       "      <td>-8.7</td>\n",
       "      <td>-6.6</td>\n",
       "      <td>-4.6</td>\n",
       "      <td>-3.2</td>\n",
       "      <td>-2.6</td>\n",
       "      <td>-2.2</td>\n",
       "      <td>-2.4</td>\n",
       "      <td>-3.6</td>\n",
       "      <td>-4.7</td>\n",
       "    </tr>\n",
       "  </tbody>\n",
       "</table>\n",
       "<p>3 rows × 932 columns</p>\n",
       "</div>"
      ],
      "text/plain": [
       "Series ID              CUSR0000SA0    CUSR0000SA0    CUSR0000SA0  \\\n",
       "Month                  May 1, 2022  April 1, 2022  March 1, 2022   \n",
       "Value                      291.474        288.663        287.708   \n",
       "Annual Percent Change          8.5            8.2            8.6   \n",
       "\n",
       "Series ID                   CUSR0000SA0      CUSR0000SA0       CUSR0000SA0  \\\n",
       "Month                  February 1, 2022  January 1, 2022  December 1, 2021   \n",
       "Value                           284.182          281.933           280.126   \n",
       "Annual Percent Change               7.9              7.5               7.1   \n",
       "\n",
       "Series ID                   CUSR0000SA0      CUSR0000SA0        CUSR0000SA0  \\\n",
       "Month                  November 1, 2021  October 1, 2021  September 1, 2021   \n",
       "Value                           278.524           276.59            274.214   \n",
       "Annual Percent Change               6.8              6.2                5.4   \n",
       "\n",
       "Series ID                 CUSR0000SA0  ...   CUSR0000SETA02  \\\n",
       "Month                  August 1, 2021  ...  October 1, 2003   \n",
       "Value                         273.092  ...            135.1   \n",
       "Annual Percent Change             5.2  ...            -10.4   \n",
       "\n",
       "Series ID                 CUSR0000SETA02  CUSR0000SETA02 CUSR0000SETA02  \\\n",
       "Month                  September 1, 2003  August 1, 2003   July 1, 2003   \n",
       "Value                              139.0           143.3          145.7   \n",
       "Annual Percent Change               -8.7            -6.6           -4.6   \n",
       "\n",
       "Series ID             CUSR0000SETA02 CUSR0000SETA02 CUSR0000SETA02  \\\n",
       "Month                   June 1, 2003    May 1, 2003  April 1, 2003   \n",
       "Value                          147.4          147.9          148.4   \n",
       "Annual Percent Change           -3.2           -2.6           -2.2   \n",
       "\n",
       "Series ID             CUSR0000SETA02    CUSR0000SETA02   CUSR0000SETA02  \n",
       "Month                  March 1, 2003  February 1, 2003  January 1, 2003  \n",
       "Value                          148.5             148.4            148.3  \n",
       "Annual Percent Change           -2.4              -3.6             -4.7  \n",
       "\n",
       "[3 rows x 932 columns]"
      ]
     },
     "execution_count": 34,
     "metadata": {},
     "output_type": "execute_result"
    }
   ],
   "source": [
    "inflat_Transp.head()"
   ]
  },
  {
   "cell_type": "code",
   "execution_count": 35,
   "id": "79a5e381-dd58-4a50-b635-1db47096306a",
   "metadata": {},
   "outputs": [
    {
     "ename": "KeyError",
     "evalue": "\"None of ['Month'] are in the columns\"",
     "output_type": "error",
     "traceback": [
      "\u001b[1;31m---------------------------------------------------------------------------\u001b[0m",
      "\u001b[1;31mKeyError\u001b[0m                                  Traceback (most recent call last)",
      "\u001b[1;32m~\\AppData\\Local\\Temp/ipykernel_8664/3093123521.py\u001b[0m in \u001b[0;36m<module>\u001b[1;34m\u001b[0m\n\u001b[1;32m----> 1\u001b[1;33m \u001b[0minflat_Transp\u001b[0m \u001b[1;33m=\u001b[0m \u001b[0minflat_Transp\u001b[0m\u001b[1;33m.\u001b[0m\u001b[0mset_index\u001b[0m\u001b[1;33m(\u001b[0m\u001b[1;34m'Month'\u001b[0m\u001b[1;33m)\u001b[0m\u001b[1;33m\u001b[0m\u001b[1;33m\u001b[0m\u001b[0m\n\u001b[0m",
      "\u001b[1;32m~\\anaconda3\\envs\\mlenv\\lib\\site-packages\\pandas\\util\\_decorators.py\u001b[0m in \u001b[0;36mwrapper\u001b[1;34m(*args, **kwargs)\u001b[0m\n\u001b[0;32m    309\u001b[0m                     \u001b[0mstacklevel\u001b[0m\u001b[1;33m=\u001b[0m\u001b[0mstacklevel\u001b[0m\u001b[1;33m,\u001b[0m\u001b[1;33m\u001b[0m\u001b[1;33m\u001b[0m\u001b[0m\n\u001b[0;32m    310\u001b[0m                 )\n\u001b[1;32m--> 311\u001b[1;33m             \u001b[1;32mreturn\u001b[0m \u001b[0mfunc\u001b[0m\u001b[1;33m(\u001b[0m\u001b[1;33m*\u001b[0m\u001b[0margs\u001b[0m\u001b[1;33m,\u001b[0m \u001b[1;33m**\u001b[0m\u001b[0mkwargs\u001b[0m\u001b[1;33m)\u001b[0m\u001b[1;33m\u001b[0m\u001b[1;33m\u001b[0m\u001b[0m\n\u001b[0m\u001b[0;32m    312\u001b[0m \u001b[1;33m\u001b[0m\u001b[0m\n\u001b[0;32m    313\u001b[0m         \u001b[1;32mreturn\u001b[0m \u001b[0mwrapper\u001b[0m\u001b[1;33m\u001b[0m\u001b[1;33m\u001b[0m\u001b[0m\n",
      "\u001b[1;32m~\\anaconda3\\envs\\mlenv\\lib\\site-packages\\pandas\\core\\frame.py\u001b[0m in \u001b[0;36mset_index\u001b[1;34m(self, keys, drop, append, inplace, verify_integrity)\u001b[0m\n\u001b[0;32m   5449\u001b[0m \u001b[1;33m\u001b[0m\u001b[0m\n\u001b[0;32m   5450\u001b[0m         \u001b[1;32mif\u001b[0m \u001b[0mmissing\u001b[0m\u001b[1;33m:\u001b[0m\u001b[1;33m\u001b[0m\u001b[1;33m\u001b[0m\u001b[0m\n\u001b[1;32m-> 5451\u001b[1;33m             \u001b[1;32mraise\u001b[0m \u001b[0mKeyError\u001b[0m\u001b[1;33m(\u001b[0m\u001b[1;34mf\"None of {missing} are in the columns\"\u001b[0m\u001b[1;33m)\u001b[0m\u001b[1;33m\u001b[0m\u001b[1;33m\u001b[0m\u001b[0m\n\u001b[0m\u001b[0;32m   5452\u001b[0m \u001b[1;33m\u001b[0m\u001b[0m\n\u001b[0;32m   5453\u001b[0m         \u001b[1;32mif\u001b[0m \u001b[0minplace\u001b[0m\u001b[1;33m:\u001b[0m\u001b[1;33m\u001b[0m\u001b[1;33m\u001b[0m\u001b[0m\n",
      "\u001b[1;31mKeyError\u001b[0m: \"None of ['Month'] are in the columns\""
     ]
    }
   ],
   "source": []
  },
  {
   "cell_type": "code",
   "execution_count": null,
   "id": "4b4c3fb6-0547-46d0-9074-73542b9f5be0",
   "metadata": {},
   "outputs": [],
   "source": []
  },
  {
   "cell_type": "code",
   "execution_count": null,
   "id": "f9b11e3b-3f51-47ae-a2ea-ae54c6605159",
   "metadata": {},
   "outputs": [],
   "source": []
  },
  {
   "cell_type": "code",
   "execution_count": null,
   "id": "33d1e75f-8f07-473f-9afd-7af8b45023f3",
   "metadata": {},
   "outputs": [],
   "source": []
  },
  {
   "cell_type": "code",
   "execution_count": null,
   "id": "7be22525-ecc3-48dc-8b54-60f8f8024da6",
   "metadata": {},
   "outputs": [],
   "source": []
  },
  {
   "cell_type": "code",
   "execution_count": null,
   "id": "4e5904f3-c18e-4218-a856-59beaafc42e3",
   "metadata": {},
   "outputs": [],
   "source": []
  },
  {
   "cell_type": "code",
   "execution_count": null,
   "id": "70532361-2012-4626-9cfb-8147fccc0f73",
   "metadata": {},
   "outputs": [],
   "source": []
  }
 ],
 "metadata": {
  "kernelspec": {
   "display_name": "Python 3 (ipykernel)",
   "language": "python",
   "name": "python3"
  },
  "language_info": {
   "codemirror_mode": {
    "name": "ipython",
    "version": 3
   },
   "file_extension": ".py",
   "mimetype": "text/x-python",
   "name": "python",
   "nbconvert_exporter": "python",
   "pygments_lexer": "ipython3",
   "version": "3.7.11"
  }
 },
 "nbformat": 4,
 "nbformat_minor": 5
}
