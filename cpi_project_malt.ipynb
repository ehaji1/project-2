{
 "cells": [
  {
   "cell_type": "code",
   "execution_count": 1,
   "id": "6059721a-612b-404b-9109-5efbef3192c7",
   "metadata": {},
   "outputs": [
    {
     "name": "stderr",
     "output_type": "stream",
     "text": [
      "\n",
      "Bad key savefig.frameon in file c:\\Users\\scott\\anaconda3\\envs\\pyvizenv\\envs\\pyvizenv2\\lib\\site-packages\\matplotlib\\mpl-data\\stylelib\\_classic_test.mplstyle, line 421 ('savefig.frameon : True')\n",
      "You probably need to get an updated matplotlibrc file from\n",
      "https://github.com/matplotlib/matplotlib/blob/v3.4.3/matplotlibrc.template\n",
      "or from the matplotlib source distribution\n",
      "\n",
      "Bad key verbose.level in file c:\\Users\\scott\\anaconda3\\envs\\pyvizenv\\envs\\pyvizenv2\\lib\\site-packages\\matplotlib\\mpl-data\\stylelib\\_classic_test.mplstyle, line 472 ('verbose.level  : silent      # one of silent, helpful, debug, debug-annoying')\n",
      "You probably need to get an updated matplotlibrc file from\n",
      "https://github.com/matplotlib/matplotlib/blob/v3.4.3/matplotlibrc.template\n",
      "or from the matplotlib source distribution\n",
      "\n",
      "Bad key verbose.fileo in file c:\\Users\\scott\\anaconda3\\envs\\pyvizenv\\envs\\pyvizenv2\\lib\\site-packages\\matplotlib\\mpl-data\\stylelib\\_classic_test.mplstyle, line 473 ('verbose.fileo  : sys.stdout  # a log filename, sys.stdout or sys.stderr')\n",
      "You probably need to get an updated matplotlibrc file from\n",
      "https://github.com/matplotlib/matplotlib/blob/v3.4.3/matplotlibrc.template\n",
      "or from the matplotlib source distribution\n",
      "In c:\\Users\\scott\\anaconda3\\envs\\pyvizenv\\envs\\pyvizenv2\\lib\\site-packages\\matplotlib\\mpl-data\\stylelib\\_classic_test.mplstyle: \n",
      "The text.latex.preview rcparam was deprecated in Matplotlib 3.3 and will be removed two minor releases later.\n",
      "In c:\\Users\\scott\\anaconda3\\envs\\pyvizenv\\envs\\pyvizenv2\\lib\\site-packages\\matplotlib\\mpl-data\\stylelib\\_classic_test.mplstyle: \n",
      "The mathtext.fallback_to_cm rcparam was deprecated in Matplotlib 3.3 and will be removed two minor releases later.\n",
      "In c:\\Users\\scott\\anaconda3\\envs\\pyvizenv\\envs\\pyvizenv2\\lib\\site-packages\\matplotlib\\mpl-data\\stylelib\\_classic_test.mplstyle: Support for setting the 'mathtext.fallback_to_cm' rcParam is deprecated since 3.3 and will be removed two minor releases later; use 'mathtext.fallback : 'cm' instead.\n",
      "In c:\\Users\\scott\\anaconda3\\envs\\pyvizenv\\envs\\pyvizenv2\\lib\\site-packages\\matplotlib\\mpl-data\\stylelib\\_classic_test.mplstyle: \n",
      "The validate_bool_maybe_none function was deprecated in Matplotlib 3.3 and will be removed two minor releases later.\n",
      "In c:\\Users\\scott\\anaconda3\\envs\\pyvizenv\\envs\\pyvizenv2\\lib\\site-packages\\matplotlib\\mpl-data\\stylelib\\_classic_test.mplstyle: \n",
      "The savefig.jpeg_quality rcparam was deprecated in Matplotlib 3.3 and will be removed two minor releases later.\n",
      "In c:\\Users\\scott\\anaconda3\\envs\\pyvizenv\\envs\\pyvizenv2\\lib\\site-packages\\matplotlib\\mpl-data\\stylelib\\_classic_test.mplstyle: \n",
      "The keymap.all_axes rcparam was deprecated in Matplotlib 3.3 and will be removed two minor releases later.\n",
      "In c:\\Users\\scott\\anaconda3\\envs\\pyvizenv\\envs\\pyvizenv2\\lib\\site-packages\\matplotlib\\mpl-data\\stylelib\\_classic_test.mplstyle: \n",
      "The animation.avconv_path rcparam was deprecated in Matplotlib 3.3 and will be removed two minor releases later.\n",
      "In c:\\Users\\scott\\anaconda3\\envs\\pyvizenv\\envs\\pyvizenv2\\lib\\site-packages\\matplotlib\\mpl-data\\stylelib\\_classic_test.mplstyle: \n",
      "The animation.avconv_args rcparam was deprecated in Matplotlib 3.3 and will be removed two minor releases later.\n"
     ]
    }
   ],
   "source": [
    "import numpy as np\n",
    "import pandas as pd\n",
    "from pathlib import Path\n",
    "from collections import Counter\n",
    "from sklearn.metrics import balanced_accuracy_score\n",
    "from sklearn.metrics import confusion_matrix\n",
    "from imblearn.metrics import classification_report_imbalanced\n",
    "import matplotlib.pyplot as plt\n",
    "from sklearn.model_selection import train_test_split\n",
    "from sklearn.preprocessing import StandardScaler, OneHotEncoder\n",
    "import tensorflow as tf\n",
    "from tensorflow.keras.models import Sequential\n",
    "from tensorflow.keras.layers import Dense\n",
    "from tensorflow.keras.layers import LSTM\n",
    "from tensorflow.keras.layers import Dense, Dropout\n",
    "\n",
    "from sklearn.preprocessing import MinMaxScaler"
   ]
  },
  {
   "cell_type": "code",
   "execution_count": 2,
   "id": "4d6cf207-f2e8-43e2-8169-fcf6ecab18cd",
   "metadata": {},
   "outputs": [],
   "source": [
    "\n",
    "file_malt = Path(\"Malt96_22.csv\")\n",
    "\n",
    "file_cpi = Path(\"CPI_Average.csv\")"
   ]
  },
  {
   "cell_type": "code",
   "execution_count": 3,
   "id": "b42258fd-4398-4702-9795-52ff80c3d58c",
   "metadata": {},
   "outputs": [],
   "source": [
    "\n",
    "\n",
    "malt_file = pd.read_csv(file_malt)\n",
    "\n",
    "CPI_file = pd.read_csv(file_cpi)"
   ]
  },
  {
   "cell_type": "code",
   "execution_count": 4,
   "id": "c4cc3005-a4fc-4fcb-aaaa-f6fe15f62b4e",
   "metadata": {},
   "outputs": [],
   "source": [
    "\n",
    "\n",
    "\n",
    "df_malt = pd.DataFrame(malt_file)\n",
    "df_malt.set_index(pd.to_datetime(df_malt['Year'], infer_datetime_format=True), inplace=True)\n",
    "df_malt = df_malt.drop(columns=['Year'], axis=1)\n",
    "df_malt = df_malt.pct_change()\n",
    "\n",
    "\n",
    "\n",
    "\n",
    "df_cpi = pd.DataFrame(CPI_file)\n",
    "df_cpi.set_index(pd.to_datetime(df_cpi['Year'], infer_datetime_format=True), inplace=True) \n",
    "df_cpi = df_cpi.drop(columns=['Year'], axis=1)\n",
    "df_cpi  = df_cpi.pct_change()\n"
   ]
  },
  {
   "cell_type": "code",
   "execution_count": 5,
   "id": "9045fb12-a7f8-4425-af14-1910a5862988",
   "metadata": {},
   "outputs": [],
   "source": [
    "df_inflation = pd.concat([df_malt, df_cpi], axis=\"columns\", join = \"inner\")"
   ]
  },
  {
   "cell_type": "code",
   "execution_count": 6,
   "id": "e04a857f-5357-402b-87d6-3e2566b7c3ed",
   "metadata": {},
   "outputs": [
    {
     "data": {
      "text/html": [
       "<div>\n",
       "<style scoped>\n",
       "    .dataframe tbody tr th:only-of-type {\n",
       "        vertical-align: middle;\n",
       "    }\n",
       "\n",
       "    .dataframe tbody tr th {\n",
       "        vertical-align: top;\n",
       "    }\n",
       "\n",
       "    .dataframe thead th {\n",
       "        text-align: right;\n",
       "    }\n",
       "</style>\n",
       "<table border=\"1\" class=\"dataframe\">\n",
       "  <thead>\n",
       "    <tr style=\"text-align: right;\">\n",
       "      <th></th>\n",
       "      <th>Malt</th>\n",
       "      <th>CPI</th>\n",
       "    </tr>\n",
       "    <tr>\n",
       "      <th>Year</th>\n",
       "      <th></th>\n",
       "      <th></th>\n",
       "    </tr>\n",
       "  </thead>\n",
       "  <tbody>\n",
       "    <tr>\n",
       "      <th>1996-01-01</th>\n",
       "      <td>NaN</td>\n",
       "      <td>0.005863</td>\n",
       "    </tr>\n",
       "    <tr>\n",
       "      <th>1996-02-01</th>\n",
       "      <td>0.009721</td>\n",
       "      <td>0.003238</td>\n",
       "    </tr>\n",
       "    <tr>\n",
       "      <th>1996-03-01</th>\n",
       "      <td>0.013237</td>\n",
       "      <td>0.005165</td>\n",
       "    </tr>\n",
       "    <tr>\n",
       "      <th>1996-04-01</th>\n",
       "      <td>-0.010689</td>\n",
       "      <td>0.003854</td>\n",
       "    </tr>\n",
       "    <tr>\n",
       "      <th>1996-05-01</th>\n",
       "      <td>0.009604</td>\n",
       "      <td>0.001919</td>\n",
       "    </tr>\n",
       "    <tr>\n",
       "      <th>...</th>\n",
       "      <td>...</td>\n",
       "      <td>...</td>\n",
       "    </tr>\n",
       "    <tr>\n",
       "      <th>2022-01-01</th>\n",
       "      <td>0.008940</td>\n",
       "      <td>0.008415</td>\n",
       "    </tr>\n",
       "    <tr>\n",
       "      <th>2022-02-01</th>\n",
       "      <td>0.024051</td>\n",
       "      <td>0.009134</td>\n",
       "    </tr>\n",
       "    <tr>\n",
       "      <th>2022-03-01</th>\n",
       "      <td>0.004944</td>\n",
       "      <td>0.013351</td>\n",
       "    </tr>\n",
       "    <tr>\n",
       "      <th>2022-04-01</th>\n",
       "      <td>-0.004305</td>\n",
       "      <td>0.005583</td>\n",
       "    </tr>\n",
       "    <tr>\n",
       "      <th>2022-05-01</th>\n",
       "      <td>0.006794</td>\n",
       "      <td>0.011024</td>\n",
       "    </tr>\n",
       "  </tbody>\n",
       "</table>\n",
       "<p>317 rows × 2 columns</p>\n",
       "</div>"
      ],
      "text/plain": [
       "                Malt       CPI\n",
       "Year                          \n",
       "1996-01-01       NaN  0.005863\n",
       "1996-02-01  0.009721  0.003238\n",
       "1996-03-01  0.013237  0.005165\n",
       "1996-04-01 -0.010689  0.003854\n",
       "1996-05-01  0.009604  0.001919\n",
       "...              ...       ...\n",
       "2022-01-01  0.008940  0.008415\n",
       "2022-02-01  0.024051  0.009134\n",
       "2022-03-01  0.004944  0.013351\n",
       "2022-04-01 -0.004305  0.005583\n",
       "2022-05-01  0.006794  0.011024\n",
       "\n",
       "[317 rows x 2 columns]"
      ]
     },
     "execution_count": 6,
     "metadata": {},
     "output_type": "execute_result"
    }
   ],
   "source": [
    "df_inflation"
   ]
  },
  {
   "cell_type": "code",
   "execution_count": 7,
   "id": "c98053a4-6920-4ee0-942f-5fdb0472df7f",
   "metadata": {},
   "outputs": [
    {
     "data": {
      "text/plain": [
       "Malt    0\n",
       "CPI     0\n",
       "dtype: int64"
      ]
     },
     "execution_count": 7,
     "metadata": {},
     "output_type": "execute_result"
    }
   ],
   "source": [
    "def fill_missing(values):\n",
    "    one_month = 30\n",
    "    for row in range(df_inflation.shape[0]):\n",
    "        for col in range(df_inflation.shape[1]):\n",
    "            if np.isnan(values[row][col]):\n",
    "                values[row,col] = values[row-one_month,col]\n",
    "df_inflation = df_inflation.astype('float32')\n",
    "fill_missing(df_inflation.values)\n",
    "df_inflation.isnull().sum()"
   ]
  },
  {
   "cell_type": "code",
   "execution_count": 8,
   "id": "a82e7ff7-3374-4baa-8b4f-5d960395472f",
   "metadata": {},
   "outputs": [
    {
     "data": {
      "text/html": [
       "<div>\n",
       "<style scoped>\n",
       "    .dataframe tbody tr th:only-of-type {\n",
       "        vertical-align: middle;\n",
       "    }\n",
       "\n",
       "    .dataframe tbody tr th {\n",
       "        vertical-align: top;\n",
       "    }\n",
       "\n",
       "    .dataframe thead th {\n",
       "        text-align: right;\n",
       "    }\n",
       "</style>\n",
       "<table border=\"1\" class=\"dataframe\">\n",
       "  <thead>\n",
       "    <tr style=\"text-align: right;\">\n",
       "      <th></th>\n",
       "      <th>Malt</th>\n",
       "      <th>CPI</th>\n",
       "    </tr>\n",
       "    <tr>\n",
       "      <th>Year</th>\n",
       "      <th></th>\n",
       "      <th></th>\n",
       "    </tr>\n",
       "  </thead>\n",
       "  <tbody>\n",
       "    <tr>\n",
       "      <th>1996-12-31</th>\n",
       "      <td>0.015644</td>\n",
       "      <td>0.032745</td>\n",
       "    </tr>\n",
       "    <tr>\n",
       "      <th>1997-12-31</th>\n",
       "      <td>0.006982</td>\n",
       "      <td>0.016905</td>\n",
       "    </tr>\n",
       "    <tr>\n",
       "      <th>1998-12-31</th>\n",
       "      <td>0.027453</td>\n",
       "      <td>0.016005</td>\n",
       "    </tr>\n",
       "    <tr>\n",
       "      <th>1999-12-31</th>\n",
       "      <td>0.048208</td>\n",
       "      <td>0.026547</td>\n",
       "    </tr>\n",
       "    <tr>\n",
       "      <th>2000-12-31</th>\n",
       "      <td>0.061167</td>\n",
       "      <td>0.033395</td>\n",
       "    </tr>\n",
       "  </tbody>\n",
       "</table>\n",
       "</div>"
      ],
      "text/plain": [
       "                Malt       CPI\n",
       "Year                          \n",
       "1996-12-31  0.015644  0.032745\n",
       "1997-12-31  0.006982  0.016905\n",
       "1998-12-31  0.027453  0.016005\n",
       "1999-12-31  0.048208  0.026547\n",
       "2000-12-31  0.061167  0.033395"
      ]
     },
     "execution_count": 8,
     "metadata": {},
     "output_type": "execute_result"
    }
   ],
   "source": [
    "daily_df = df_inflation.resample('Y').sum()\n",
    "daily_df.head()"
   ]
  },
  {
   "cell_type": "code",
   "execution_count": 9,
   "id": "66c4a76c-ef2d-48fc-a900-9c45d591752e",
   "metadata": {},
   "outputs": [],
   "source": [
    "def window_data(df_inflation, window, feature_col_number, target_col_number):\n",
    "    \"\"\"\n",
    "    This function accepts the column number for the features (X) and the target (y).\n",
    "    It chunks the data up with a rolling window of Xt - window to predict Xt.\n",
    "    It returns two numpy arrays of X and y.\n",
    "    \"\"\"\n",
    "    X = []\n",
    "    y = []\n",
    "    for i in range(len(df_inflation) - window):\n",
    "        features = df_inflation.iloc[i : (i + window), feature_col_number]\n",
    "        target = df_inflation.iloc[(i + window), target_col_number]\n",
    "        X.append(features)\n",
    "        y.append(target)\n",
    "    return np.array(X), np.array(y).reshape(-1, 1)"
   ]
  },
  {
   "cell_type": "code",
   "execution_count": 10,
   "id": "e5d13a98-86e1-403c-bf84-cc480b0c4508",
   "metadata": {},
   "outputs": [
    {
     "name": "stdout",
     "output_type": "stream",
     "text": [
      "X sample values:\n",
      "[[ 0.00586319  0.00323834  0.00516462  0.00385356  0.00191939  0.00063857\n",
      "   0.00191449  0.00191083  0.00317864  0.00316857  0.00189514  0.\n",
      "   0.00315259  0.00314268  0.00250627  0.00125    -0.00062422  0.00124922\n",
      "   0.00124766  0.00186916  0.00248756  0.00248139 -0.00061881 -0.00123839\n",
      "   0.00185989  0.00185644  0.001853    0.00184957  0.00184615  0.0012285 ]\n",
      " [ 0.00323834  0.00516462  0.00385356  0.00191939  0.00063857  0.00191449\n",
      "   0.00191083  0.00317864  0.00316857  0.00189514  0.          0.00315259\n",
      "   0.00314268  0.00250627  0.00125    -0.00062422  0.00124922  0.00124766\n",
      "   0.00186916  0.00248756  0.00248139 -0.00061881 -0.00123839  0.00185989\n",
      "   0.00185644  0.001853    0.00184957  0.00184615  0.0012285   0.00122699]\n",
      " [ 0.00516462  0.00385356  0.00191939  0.00063857  0.00191449  0.00191083\n",
      "   0.00317864  0.00316857  0.00189514  0.          0.00315259  0.00314268\n",
      "   0.00250627  0.00125    -0.00062422  0.00124922  0.00124766  0.00186916\n",
      "   0.00248756  0.00248139 -0.00061881 -0.00123839  0.00185989  0.00185644\n",
      "   0.001853    0.00184957  0.00184615  0.0012285   0.00122699  0.00122549]\n",
      " [ 0.00385356  0.00191939  0.00063857  0.00191449  0.00191083  0.00317864\n",
      "   0.00316857  0.00189514  0.          0.00315259  0.00314268  0.00250627\n",
      "   0.00125    -0.00062422  0.00124922  0.00124766  0.00186916  0.00248756\n",
      "   0.00248139 -0.00061881 -0.00123839  0.00185989  0.00185644  0.001853\n",
      "   0.00184957  0.00184615  0.0012285   0.00122699  0.00122549  0.00122399]\n",
      " [ 0.00191939  0.00063857  0.00191449  0.00191083  0.00317864  0.00316857\n",
      "   0.00189514  0.          0.00315259  0.00314268  0.00250627  0.00125\n",
      "  -0.00062422  0.00124922  0.00124766  0.00186916  0.00248756  0.00248139\n",
      "  -0.00061881 -0.00123839  0.00185989  0.00185644  0.001853    0.00184957\n",
      "   0.00184615  0.0012285   0.00122699  0.00122549  0.00122399  0.00244499]\n",
      " [ 0.00063857  0.00191449  0.00191083  0.00317864  0.00316857  0.00189514\n",
      "   0.          0.00315259  0.00314268  0.00250627  0.00125    -0.00062422\n",
      "   0.00124922  0.00124766  0.00186916  0.00248756  0.00248139 -0.00061881\n",
      "  -0.00123839  0.00185989  0.00185644  0.001853    0.00184957  0.00184615\n",
      "   0.0012285   0.00122699  0.00122549  0.00122399  0.00244499  0.        ]\n",
      " [ 0.00191449  0.00191083  0.00317864  0.00316857  0.00189514  0.\n",
      "   0.00315259  0.00314268  0.00250627  0.00125    -0.00062422  0.00124922\n",
      "   0.00124766  0.00186916  0.00248756  0.00248139 -0.00061881 -0.00123839\n",
      "   0.00185989  0.00185644  0.001853    0.00184957  0.00184615  0.0012285\n",
      "   0.00122699  0.00122549  0.00122399  0.00244499  0.         -0.00060976]\n",
      " [ 0.00191083  0.00317864  0.00316857  0.00189514  0.          0.00315259\n",
      "   0.00314268  0.00250627  0.00125    -0.00062422  0.00124922  0.00124766\n",
      "   0.00186916  0.00248756  0.00248139 -0.00061881 -0.00123839  0.00185989\n",
      "   0.00185644  0.001853    0.00184957  0.00184615  0.0012285   0.00122699\n",
      "   0.00122549  0.00122399  0.00244499  0.         -0.00060976  0.00244051]\n",
      " [ 0.00317864  0.00316857  0.00189514  0.          0.00315259  0.00314268\n",
      "   0.00250627  0.00125    -0.00062422  0.00124922  0.00124766  0.00186916\n",
      "   0.00248756  0.00248139 -0.00061881 -0.00123839  0.00185989  0.00185644\n",
      "   0.001853    0.00184957  0.00184615  0.0012285   0.00122699  0.00122549\n",
      "   0.00122399  0.00244499  0.         -0.00060976  0.00244051  0.00121729]\n",
      " [ 0.00316857  0.00189514  0.          0.00315259  0.00314268  0.00250627\n",
      "   0.00125    -0.00062422  0.00124922  0.00124766  0.00186916  0.00248756\n",
      "   0.00248139 -0.00061881 -0.00123839  0.00185989  0.00185644  0.001853\n",
      "   0.00184957  0.00184615  0.0012285   0.00122699  0.00122549  0.00122399\n",
      "   0.00244499  0.         -0.00060976  0.00244051  0.00121729  0.00303951]] \n",
      "\n",
      "y sample values:\n",
      "[[ 0.00122699]\n",
      " [ 0.00122549]\n",
      " [ 0.00122399]\n",
      " [ 0.00244499]\n",
      " [ 0.        ]\n",
      " [-0.00060976]\n",
      " [ 0.00244051]\n",
      " [ 0.00121729]\n",
      " [ 0.00303951]\n",
      " [ 0.00727273]]\n"
     ]
    }
   ],
   "source": [
    " # Define the window size\n",
    "window_size = 30\n",
    "\n",
    "# Set the index of the feature and target columns\n",
    "feature_column = 1\n",
    "target_column = 1\n",
    "\n",
    "# Create the features (X) and target (y) data using the window_data() function.\n",
    "X, y = window_data(df_inflation, window_size, feature_column, target_column)\n",
    "\n",
    "# Print a few sample values from X and y\n",
    "print (f\"X sample values:\\n{X[:10]} \\n\")\n",
    "print (f\"y sample values:\\n{y[:10]}\")\n"
   ]
  },
  {
   "cell_type": "code",
   "execution_count": 11,
   "id": "49e3e357-d98d-4d98-8f0e-97a7ab5015fc",
   "metadata": {},
   "outputs": [],
   "source": [
    "split = int(0.7 * len(X))\n",
    "\n",
    "X_train = X[: split]\n",
    "X_test = X[split:]\n",
    "\n",
    "y_train = y[: split]\n",
    "y_test = y[split:]"
   ]
  },
  {
   "cell_type": "code",
   "execution_count": 12,
   "id": "c0cbd4b0-be23-41ac-be73-f992aad262fc",
   "metadata": {},
   "outputs": [],
   "source": [
    "from sklearn.preprocessing import MinMaxScaler\n",
    "\n",
    "# Create a MinMaxScaler object\n",
    "scaler = MinMaxScaler()\n",
    "\n",
    "# Fit the MinMaxScaler object with the features data X\n",
    "scaler.fit(X_train)\n",
    "\n",
    "# Scale the features training and testing sets\n",
    "X_train = scaler.transform(X_train)\n",
    "X_test = scaler.transform(X_test)\n",
    "\n",
    "# Fit the MinMaxScaler object with the target data Y\n",
    "scaler.fit(y_train)\n",
    "\n",
    "# Scale the target training and testing sets\n",
    "y_train = scaler.transform(y_train)\n",
    "y_test = scaler.transform(y_test)"
   ]
  },
  {
   "cell_type": "code",
   "execution_count": 13,
   "id": "f83c4bca-c399-4e9b-8bcb-1505cc5dd7f8",
   "metadata": {},
   "outputs": [
    {
     "name": "stdout",
     "output_type": "stream",
     "text": [
      "X_train sample values:\n",
      "[[[0.79738003]\n",
      "  [0.71371377]\n",
      "  [0.77511334]\n",
      "  [0.73332375]\n",
      "  [0.6716724 ]\n",
      "  [0.6308468 ]\n",
      "  [0.67151624]\n",
      "  [0.67139965]\n",
      "  [0.7118107 ]\n",
      "  [0.7114897 ]\n",
      "  [0.67089945]\n",
      "  [0.6104926 ]\n",
      "  [0.7109803 ]\n",
      "  [0.71066445]\n",
      "  [0.690379  ]\n",
      "  [0.65033597]\n",
      "  [0.5905958 ]\n",
      "  [0.65031105]\n",
      "  [0.6502614 ]\n",
      "  [0.6700714 ]\n",
      "  [0.68978286]\n",
      "  [0.6895861 ]\n",
      "  [0.59076816]\n",
      "  [0.5710193 ]\n",
      "  [0.66977596]\n",
      "  [0.6696659 ]\n",
      "  [0.66955626]\n",
      "  [0.669447  ]\n",
      "  [0.66933817]\n",
      "  [0.6496507 ]]\n",
      "\n",
      " [[0.71371377]\n",
      "  [0.77511334]\n",
      "  [0.73332375]\n",
      "  [0.6716724 ]\n",
      "  [0.6308468 ]\n",
      "  [0.67151624]\n",
      "  [0.67139965]\n",
      "  [0.7118107 ]\n",
      "  [0.7114897 ]\n",
      "  [0.67089945]\n",
      "  [0.6104926 ]\n",
      "  [0.7109803 ]\n",
      "  [0.71066445]\n",
      "  [0.690379  ]\n",
      "  [0.65033597]\n",
      "  [0.5905958 ]\n",
      "  [0.65031105]\n",
      "  [0.6502614 ]\n",
      "  [0.6700714 ]\n",
      "  [0.68978286]\n",
      "  [0.6895861 ]\n",
      "  [0.59076816]\n",
      "  [0.5710193 ]\n",
      "  [0.66977596]\n",
      "  [0.6696659 ]\n",
      "  [0.66955626]\n",
      "  [0.669447  ]\n",
      "  [0.66933817]\n",
      "  [0.6496507 ]\n",
      "  [0.64960265]]\n",
      "\n",
      " [[0.77511334]\n",
      "  [0.73332375]\n",
      "  [0.6716724 ]\n",
      "  [0.6308468 ]\n",
      "  [0.67151624]\n",
      "  [0.67139965]\n",
      "  [0.7118107 ]\n",
      "  [0.7114897 ]\n",
      "  [0.67089945]\n",
      "  [0.6104926 ]\n",
      "  [0.7109803 ]\n",
      "  [0.71066445]\n",
      "  [0.690379  ]\n",
      "  [0.65033597]\n",
      "  [0.5905958 ]\n",
      "  [0.65031105]\n",
      "  [0.6502614 ]\n",
      "  [0.6700714 ]\n",
      "  [0.68978286]\n",
      "  [0.6895861 ]\n",
      "  [0.59076816]\n",
      "  [0.5710193 ]\n",
      "  [0.66977596]\n",
      "  [0.6696659 ]\n",
      "  [0.66955626]\n",
      "  [0.669447  ]\n",
      "  [0.66933817]\n",
      "  [0.6496507 ]\n",
      "  [0.64960265]\n",
      "  [0.6495547 ]]] \n",
      "\n",
      "X_test sample values:\n",
      "[[[0.75272423]\n",
      "  [0.5980957 ]\n",
      "  [0.45946753]\n",
      "  [0.524652  ]\n",
      "  [0.7047557 ]\n",
      "  [0.8715472 ]\n",
      "  [0.69382924]\n",
      "  [0.57735443]\n",
      "  [0.6672425 ]\n",
      "  [0.6869825 ]\n",
      "  [0.62305117]\n",
      "  [0.64883566]\n",
      "  [0.647563  ]\n",
      "  [0.52840626]\n",
      "  [0.54539096]\n",
      "  [0.6077574 ]\n",
      "  [0.72907436]\n",
      "  [0.72836226]\n",
      "  [0.815767  ]\n",
      "  [0.71557564]\n",
      "  [0.72181845]\n",
      "  [0.6698473 ]\n",
      "  [0.5980553 ]\n",
      "  [0.5572455 ]\n",
      "  [0.6344805 ]\n",
      "  [0.5304145 ]\n",
      "  [0.4383878 ]\n",
      "  [0.42975986]\n",
      "  [0.4604937 ]\n",
      "  [0.7489258 ]]\n",
      "\n",
      " [[0.5980957 ]\n",
      "  [0.45946753]\n",
      "  [0.524652  ]\n",
      "  [0.7047557 ]\n",
      "  [0.8715472 ]\n",
      "  [0.69382924]\n",
      "  [0.57735443]\n",
      "  [0.6672425 ]\n",
      "  [0.6869825 ]\n",
      "  [0.62305117]\n",
      "  [0.64883566]\n",
      "  [0.647563  ]\n",
      "  [0.52840626]\n",
      "  [0.54539096]\n",
      "  [0.6077574 ]\n",
      "  [0.72907436]\n",
      "  [0.72836226]\n",
      "  [0.815767  ]\n",
      "  [0.71557564]\n",
      "  [0.72181845]\n",
      "  [0.6698473 ]\n",
      "  [0.5980553 ]\n",
      "  [0.5572455 ]\n",
      "  [0.6344805 ]\n",
      "  [0.5304145 ]\n",
      "  [0.4383878 ]\n",
      "  [0.42975986]\n",
      "  [0.4604937 ]\n",
      "  [0.7489258 ]\n",
      "  [0.8002019 ]]\n",
      "\n",
      " [[0.45946753]\n",
      "  [0.524652  ]\n",
      "  [0.7047557 ]\n",
      "  [0.8715472 ]\n",
      "  [0.69382924]\n",
      "  [0.57735443]\n",
      "  [0.6672425 ]\n",
      "  [0.6869825 ]\n",
      "  [0.62305117]\n",
      "  [0.64883566]\n",
      "  [0.647563  ]\n",
      "  [0.52840626]\n",
      "  [0.54539096]\n",
      "  [0.6077574 ]\n",
      "  [0.72907436]\n",
      "  [0.72836226]\n",
      "  [0.815767  ]\n",
      "  [0.71557564]\n",
      "  [0.72181845]\n",
      "  [0.6698473 ]\n",
      "  [0.5980553 ]\n",
      "  [0.5572455 ]\n",
      "  [0.6344805 ]\n",
      "  [0.5304145 ]\n",
      "  [0.4383878 ]\n",
      "  [0.42975986]\n",
      "  [0.4604937 ]\n",
      "  [0.7489258 ]\n",
      "  [0.8002019 ]\n",
      "  [0.6752898 ]]]\n"
     ]
    }
   ],
   "source": [
    "X_train = X_train.reshape((X_train.shape[0], X_train.shape[1], 1))\n",
    "X_test = X_test.reshape((X_test.shape[0], X_test.shape[1], 1))\n",
    "\n",
    "# Print some sample data after reshaping the datasets\n",
    "print (f\"X_train sample values:\\n{X_train[:3]} \\n\")\n",
    "print (f\"X_test sample values:\\n{X_test[:3]}\")"
   ]
  },
  {
   "cell_type": "code",
   "execution_count": 14,
   "id": "94a79c44-fa13-4f93-a959-5065386614f9",
   "metadata": {},
   "outputs": [],
   "source": [
    "model = Sequential()\n",
    "\n",
    "# Initial model setup\n",
    "number_units = 800\n",
    "#hidden_units = 17 \n",
    "dropout_fraction = 0.2\n",
    "\n",
    "# Layer 1\n",
    "model.add(LSTM(\n",
    "    units=number_units,\n",
    "    return_sequences=True,\n",
    "    input_shape=(X_train.shape[1], 1))\n",
    "    )\n",
    "model.add(Dropout(dropout_fraction))\n",
    "\n",
    "# Layer 2\n",
    "model.add(LSTM(units=number_units, return_sequences=True))\n",
    "model.add(Dropout(dropout_fraction))\n",
    "\n",
    "# Layer 3\n",
    "model.add(LSTM(units=number_units, return_sequences=True))\n",
    "model.add(Dropout(dropout_fraction))\n",
    "\n",
    "# Layer 4\n",
    "model.add(LSTM(units=number_units))\n",
    "model.add(Dropout(dropout_fraction))\n",
    "\n",
    "\n",
    "# Output layer\n",
    "model.add(Dense(1))"
   ]
  },
  {
   "cell_type": "code",
   "execution_count": 15,
   "id": "3654b11d-fbf5-474a-ba00-39a76efe9a33",
   "metadata": {},
   "outputs": [],
   "source": [
    "model.compile(optimizer=\"adam\", loss=\"mean_squared_error\")"
   ]
  },
  {
   "cell_type": "code",
   "execution_count": 16,
   "id": "ad3687cf-4fb0-462e-9cc6-8aa8ef9bd2ba",
   "metadata": {},
   "outputs": [
    {
     "name": "stdout",
     "output_type": "stream",
     "text": [
      "Model: \"sequential\"\n",
      "_________________________________________________________________\n",
      " Layer (type)                Output Shape              Param #   \n",
      "=================================================================\n",
      " lstm (LSTM)                 (None, 30, 800)           2566400   \n",
      "                                                                 \n",
      " dropout (Dropout)           (None, 30, 800)           0         \n",
      "                                                                 \n",
      " lstm_1 (LSTM)               (None, 30, 800)           5123200   \n",
      "                                                                 \n",
      " dropout_1 (Dropout)         (None, 30, 800)           0         \n",
      "                                                                 \n",
      " lstm_2 (LSTM)               (None, 30, 800)           5123200   \n",
      "                                                                 \n",
      " dropout_2 (Dropout)         (None, 30, 800)           0         \n",
      "                                                                 \n",
      " lstm_3 (LSTM)               (None, 800)               5123200   \n",
      "                                                                 \n",
      " dropout_3 (Dropout)         (None, 800)               0         \n",
      "                                                                 \n",
      " dense (Dense)               (None, 1)                 801       \n",
      "                                                                 \n",
      "=================================================================\n",
      "Total params: 17,936,801\n",
      "Trainable params: 17,936,801\n",
      "Non-trainable params: 0\n",
      "_________________________________________________________________\n"
     ]
    }
   ],
   "source": [
    "model.summary()"
   ]
  },
  {
   "cell_type": "code",
   "execution_count": 17,
   "id": "d3b90ce1-86e2-487f-9322-a16ea5a5f2e8",
   "metadata": {},
   "outputs": [
    {
     "name": "stdout",
     "output_type": "stream",
     "text": [
      "Epoch 1/20\n",
      "2/2 [==============================] - 5s 72ms/step - loss: 0.5505\n",
      "Epoch 2/20\n",
      "2/2 [==============================] - 0s 67ms/step - loss: 0.5058\n",
      "Epoch 3/20\n",
      "2/2 [==============================] - 0s 68ms/step - loss: 0.3788\n",
      "Epoch 4/20\n",
      "2/2 [==============================] - 0s 68ms/step - loss: 0.4238\n",
      "Epoch 5/20\n",
      "2/2 [==============================] - 0s 67ms/step - loss: 0.4251\n",
      "Epoch 6/20\n",
      "2/2 [==============================] - 0s 68ms/step - loss: 0.2607\n",
      "Epoch 7/20\n",
      "2/2 [==============================] - 0s 68ms/step - loss: 0.0675\n",
      "Epoch 8/20\n",
      "2/2 [==============================] - 0s 68ms/step - loss: 0.1688\n",
      "Epoch 9/20\n",
      "2/2 [==============================] - 0s 68ms/step - loss: 0.1261\n",
      "Epoch 10/20\n",
      "2/2 [==============================] - 0s 67ms/step - loss: 0.1713\n",
      "Epoch 11/20\n",
      "2/2 [==============================] - 0s 66ms/step - loss: 0.1352\n",
      "Epoch 12/20\n",
      "2/2 [==============================] - 0s 66ms/step - loss: 0.0578\n",
      "Epoch 13/20\n",
      "2/2 [==============================] - 0s 67ms/step - loss: 0.0360\n",
      "Epoch 14/20\n",
      "2/2 [==============================] - 0s 67ms/step - loss: 0.0604\n",
      "Epoch 15/20\n",
      "2/2 [==============================] - 0s 69ms/step - loss: 0.0191\n",
      "Epoch 16/20\n",
      "2/2 [==============================] - 0s 69ms/step - loss: 0.0380\n",
      "Epoch 17/20\n",
      "2/2 [==============================] - 0s 68ms/step - loss: 0.0416\n",
      "Epoch 18/20\n",
      "2/2 [==============================] - 0s 66ms/step - loss: 0.0267\n",
      "Epoch 19/20\n",
      "2/2 [==============================] - 0s 67ms/step - loss: 0.0188\n",
      "Epoch 20/20\n",
      "2/2 [==============================] - 0s 67ms/step - loss: 0.0282\n"
     ]
    },
    {
     "data": {
      "text/plain": [
       "<keras.callbacks.History at 0x21a26671688>"
      ]
     },
     "execution_count": 17,
     "metadata": {},
     "output_type": "execute_result"
    }
   ],
   "source": [
    "model.fit(X_train, y_train, epochs=20, shuffle=False, batch_size=100, verbose=1)"
   ]
  },
  {
   "cell_type": "code",
   "execution_count": null,
   "id": "9c2f15f7-4628-4e63-bf62-ca9ad902320f",
   "metadata": {},
   "outputs": [],
   "source": []
  },
  {
   "cell_type": "code",
   "execution_count": 18,
   "id": "20e24181-cf95-4a05-94a4-c205f56f6a3b",
   "metadata": {},
   "outputs": [
    {
     "data": {
      "text/plain": [
       "0.01561887376010418"
      ]
     },
     "execution_count": 18,
     "metadata": {},
     "output_type": "execute_result"
    }
   ],
   "source": [
    "model.evaluate(X_test, y_test, verbose=0)"
   ]
  },
  {
   "cell_type": "code",
   "execution_count": 19,
   "id": "0d60e84f-58be-47e2-9838-355fca62a9d7",
   "metadata": {},
   "outputs": [
    {
     "name": "stdout",
     "output_type": "stream",
     "text": [
      "3/3 [==============================] - 1s 15ms/step\n"
     ]
    }
   ],
   "source": [
    "predicted = model.predict(X_test)"
   ]
  },
  {
   "cell_type": "code",
   "execution_count": 20,
   "id": "85b1f7a3-5d7a-4365-9a3b-433d20b723f5",
   "metadata": {},
   "outputs": [],
   "source": [
    "predicted_prices = scaler.inverse_transform(predicted)\n",
    "real_prices = scaler.inverse_transform(y_test.reshape(-1, 1))"
   ]
  },
  {
   "cell_type": "code",
   "execution_count": 21,
   "id": "53e2d97a-85c2-456d-8c64-d8e828ff9911",
   "metadata": {},
   "outputs": [
    {
     "data": {
      "text/html": [
       "<div>\n",
       "<style scoped>\n",
       "    .dataframe tbody tr th:only-of-type {\n",
       "        vertical-align: middle;\n",
       "    }\n",
       "\n",
       "    .dataframe tbody tr th {\n",
       "        vertical-align: top;\n",
       "    }\n",
       "\n",
       "    .dataframe thead th {\n",
       "        text-align: right;\n",
       "    }\n",
       "</style>\n",
       "<table border=\"1\" class=\"dataframe\">\n",
       "  <thead>\n",
       "    <tr style=\"text-align: right;\">\n",
       "      <th></th>\n",
       "      <th>Actual</th>\n",
       "      <th>Predicted</th>\n",
       "    </tr>\n",
       "    <tr>\n",
       "      <th>Year</th>\n",
       "      <th></th>\n",
       "      <th></th>\n",
       "    </tr>\n",
       "  </thead>\n",
       "  <tbody>\n",
       "    <tr>\n",
       "      <th>2022-01-01</th>\n",
       "      <td>0.008415</td>\n",
       "      <td>0.006957</td>\n",
       "    </tr>\n",
       "    <tr>\n",
       "      <th>2022-02-01</th>\n",
       "      <td>0.009134</td>\n",
       "      <td>0.006672</td>\n",
       "    </tr>\n",
       "    <tr>\n",
       "      <th>2022-03-01</th>\n",
       "      <td>0.013351</td>\n",
       "      <td>0.006109</td>\n",
       "    </tr>\n",
       "    <tr>\n",
       "      <th>2022-04-01</th>\n",
       "      <td>0.005583</td>\n",
       "      <td>0.005748</td>\n",
       "    </tr>\n",
       "    <tr>\n",
       "      <th>2022-05-01</th>\n",
       "      <td>0.011024</td>\n",
       "      <td>0.005784</td>\n",
       "    </tr>\n",
       "  </tbody>\n",
       "</table>\n",
       "</div>"
      ],
      "text/plain": [
       "              Actual  Predicted\n",
       "Year                           \n",
       "2022-01-01  0.008415   0.006957\n",
       "2022-02-01  0.009134   0.006672\n",
       "2022-03-01  0.013351   0.006109\n",
       "2022-04-01  0.005583   0.005748\n",
       "2022-05-01  0.011024   0.005784"
      ]
     },
     "execution_count": 21,
     "metadata": {},
     "output_type": "execute_result"
    }
   ],
   "source": [
    "# Create a DataFrame of Real and Predicted values\n",
    "CPI = pd.DataFrame({\n",
    "    \"Actual\": real_prices.ravel(),\n",
    "    \"Predicted\": predicted_prices.ravel()\n",
    "}, index = df_inflation.index[-len(real_prices): ]) \n",
    "\n",
    "# Show the DataFrame's head\n",
    "CPI.tail()"
   ]
  },
  {
   "cell_type": "code",
   "execution_count": 22,
   "id": "21a3ecf6-f688-467d-b011-465bfbb05009",
   "metadata": {},
   "outputs": [
    {
     "data": {
      "text/plain": [
       "<AxesSubplot:title={'center':'Actual Vs. Predicted'}, xlabel='Year'>"
      ]
     },
     "execution_count": 22,
     "metadata": {},
     "output_type": "execute_result"
    },
    {
     "data": {
      "image/png": "[encoded data removed]",
      "text/plain": [
       "<Figure size 432x288 with 1 Axes>"
      ]
     },
     "metadata": {
      "needs_background": "light"
     },
     "output_type": "display_data"
    }
   ],
   "source": [
    "CPI.plot(title=\"Actual Vs. Predicted\")"
   ]
  },
  {
   "cell_type": "code",
   "execution_count": null,
   "id": "c00864ef-8c93-436d-aa04-8adae3735425",
   "metadata": {},
   "outputs": [],
   "source": []
  },
  {
   "cell_type": "code",
   "execution_count": 23,
   "id": "0d0089af-23b6-480c-82b6-2f4eb136f9ca",
   "metadata": {},
   "outputs": [
    {
     "ename": "NameError",
     "evalue": "name 'results' is not defined",
     "output_type": "error",
     "traceback": [
      "\u001b[1;31m---------------------------------------------------------------------------\u001b[0m",
      "\u001b[1;31mNameError\u001b[0m                                 Traceback (most recent call last)",
      "\u001b[1;32m~\\AppData\\Local\\Temp/ipykernel_44192/4024650904.py\u001b[0m in \u001b[0;36m<module>\u001b[1;34m\u001b[0m\n\u001b[0;32m      1\u001b[0m \u001b[1;31m# Print the Classification Report\u001b[0m\u001b[1;33m\u001b[0m\u001b[1;33m\u001b[0m\u001b[1;33m\u001b[0m\u001b[0m\n\u001b[0;32m      2\u001b[0m \u001b[1;32mfrom\u001b[0m \u001b[0msklearn\u001b[0m\u001b[1;33m.\u001b[0m\u001b[0mmetrics\u001b[0m \u001b[1;32mimport\u001b[0m \u001b[0mclassification_report\u001b[0m\u001b[1;33m\u001b[0m\u001b[1;33m\u001b[0m\u001b[0m\n\u001b[1;32m----> 3\u001b[1;33m \u001b[0mprint\u001b[0m\u001b[1;33m(\u001b[0m\u001b[0mclassification_report\u001b[0m\u001b[1;33m(\u001b[0m\u001b[0mresults\u001b[0m\u001b[1;33m.\u001b[0m\u001b[0mActual\u001b[0m\u001b[1;33m,\u001b[0m \u001b[0mresults\u001b[0m\u001b[1;33m.\u001b[0m\u001b[0mPredicted\u001b[0m\u001b[1;33m)\u001b[0m\u001b[1;33m)\u001b[0m\u001b[1;33m\u001b[0m\u001b[1;33m\u001b[0m\u001b[0m\n\u001b[0m",
      "\u001b[1;31mNameError\u001b[0m: name 'results' is not defined"
     ]
    }
   ],
   "source": [
    "# Print the Classification Report\n",
    "from sklearn.metrics import classification_report\n",
    "print(classification_report(results.Actual, results.Predicted))"
   ]
  },
  {
   "cell_type": "code",
   "execution_count": null,
   "id": "bf39a124-7140-45fd-b1c4-675e13c4bb25",
   "metadata": {},
   "outputs": [],
   "source": []
  },
  {
   "cell_type": "code",
   "execution_count": null,
   "id": "16b55fe0-4125-4ec8-9c7f-5f4527bb4005",
   "metadata": {},
   "outputs": [],
   "source": []
  },
  {
   "cell_type": "code",
   "execution_count": null,
   "id": "9711a80b-b69c-443e-a777-c199b1a41d5d",
   "metadata": {},
   "outputs": [],
   "source": []
  },
  {
   "cell_type": "code",
   "execution_count": null,
   "id": "92e1d15c-2fca-471e-8776-f6107e01cc08",
   "metadata": {},
   "outputs": [],
   "source": []
  },
  {
   "cell_type": "code",
   "execution_count": null,
   "id": "b1abcc7d-cfbd-4a44-9815-36a4d2b9f621",
   "metadata": {},
   "outputs": [],
   "source": []
  },
  {
   "cell_type": "code",
   "execution_count": null,
   "id": "555ba05f-517e-4585-8b95-92751dc50d53",
   "metadata": {},
   "outputs": [],
   "source": []
  },
  {
   "cell_type": "code",
   "execution_count": null,
   "id": "3e7d610f-44de-49f6-a4df-b3151680240a",
   "metadata": {},
   "outputs": [],
   "source": []
  },
  {
   "cell_type": "code",
   "execution_count": null,
   "id": "24469fe3-61c1-4720-b292-4a31d06468ba",
   "metadata": {},
   "outputs": [],
   "source": []
  },
  {
   "cell_type": "code",
   "execution_count": null,
   "id": "722eda22-e71b-40e2-bc57-63e98ed21b39",
   "metadata": {},
   "outputs": [],
   "source": []
  },
  {
   "cell_type": "code",
   "execution_count": null,
   "id": "3d797b09-ba3a-455a-96db-6213ae1d6ff0",
   "metadata": {},
   "outputs": [],
   "source": []
  },
  {
   "cell_type": "code",
   "execution_count": null,
   "id": "d0eab548-1d8d-43bb-b4d1-771162bc80ca",
   "metadata": {},
   "outputs": [],
   "source": []
  }
 ],
 "metadata": {
  "kernelspec": {
   "display_name": "Python 3.7.11",
   "language": "python",
   "name": "python3"
  },
  "language_info": {
   "codemirror_mode": {
    "name": "ipython",
    "version": 3
   },
   "file_extension": ".py",
   "mimetype": "text/x-python",
   "name": "python",
   "nbconvert_exporter": "python",
   "pygments_lexer": "ipython3",
   "version": "3.7.11"
  },
  "vscode": {
   "interpreter": {
    "hash": "f24fb736bc58afe020740221a10e8176565a9d617573dc102cc641ee173f1291"
   }
  }
 },
 "nbformat": 4,
 "nbformat_minor": 5
}
